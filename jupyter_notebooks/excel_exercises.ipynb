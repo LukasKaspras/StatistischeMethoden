{
 "cells": [
  {
   "cell_type": "code",
   "execution_count": null,
   "id": "b8fb381f-a254-42c5-a95c-e304872f09a3",
   "metadata": {},
   "outputs": [],
   "source": []
  }
 ],
 "metadata": {
  "kernelspec": {
   "display_name": "StatistischeMethoden",
   "language": "python",
   "name": "statistischemethoden"
  },
  "language_info": {
   "codemirror_mode": {
    "name": "ipython",
    "version": 3
   },
   "file_extension": ".py",
   "mimetype": "text/x-python",
   "name": "python",
   "nbconvert_exporter": "python",
   "pygments_lexer": "ipython3",
   "version": "3.9.7"
  }
 },
 "nbformat": 4,
 "nbformat_minor": 5
}
